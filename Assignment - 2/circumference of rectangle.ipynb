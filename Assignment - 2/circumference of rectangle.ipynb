{
 "cells": [
  {
   "cell_type": "code",
   "execution_count": 1,
   "metadata": {},
   "outputs": [
    {
     "name": "stdout",
     "output_type": "stream",
     "text": [
      "pls enter the lengh : 2\n",
      "pls enter the width : 5\n",
      "circumference equals : 14.0\n"
     ]
    }
   ],
   "source": [
    "lengh= float(input(\"pls enter the lengh : \"))\n",
    "width= float(input(\"pls enter the width : \"))\n",
    "circumference= 2*(lengh+width)\n",
    "print(\"circumference equals : \" + str(circumference))"
   ]
  },
  {
   "cell_type": "code",
   "execution_count": null,
   "metadata": {},
   "outputs": [],
   "source": []
  }
 ],
 "metadata": {
  "kernelspec": {
   "display_name": "Python 3",
   "language": "python",
   "name": "python3"
  },
  "language_info": {
   "codemirror_mode": {
    "name": "ipython",
    "version": 3
   },
   "file_extension": ".py",
   "mimetype": "text/x-python",
   "name": "python",
   "nbconvert_exporter": "python",
   "pygments_lexer": "ipython3",
   "version": "3.7.4"
  }
 },
 "nbformat": 4,
 "nbformat_minor": 2
}
